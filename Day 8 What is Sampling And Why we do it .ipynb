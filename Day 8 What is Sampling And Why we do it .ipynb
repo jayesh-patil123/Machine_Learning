{
 "cells": [
  {
   "cell_type": "code",
   "execution_count": 3,
   "id": "31d2f49e",
   "metadata": {},
   "outputs": [],
   "source": [
    "# Sampling Session"
   ]
  },
  {
   "cell_type": "markdown",
   "id": "280bf65e",
   "metadata": {},
   "source": [
    "Sampling :- Sampling is the process of selecting a subset of data from a large dataset to use in \n",
    "ML  model.\n",
    "1] Studies with inadequate sample suffer from overfitting of data and have a lower probability of producing true effects\n",
    "2] The increment in sample size increases the accuracy of prediction but may not cause a significant change after a certain sample size.\n",
    "\n",
    "# There are main types of Sampling Technique.\n",
    "1) Random Sampling\n",
    "2) Stratified Sampling\n",
    "\n",
    "1) random Sampling :- \n",
    "                in which each item in the population has an equal chance of being selected in the sample.\n",
    "                \n",
    "                In sampling we will divide it into Train data , & test data.\n",
    "                \n",
    "                Because, On Train Data Built the model & On Test data test the model.\n",
    "                \n",
    "                There is more data in the train & the less data in the test.\n",
    "                \n",
    "          eg:- placement Training (Train data) for more knowledge.\n",
    "               Placement exam (Test data) for checking ability.\n",
    "               \n",
    "# The Ratio of the Train & Test is 70% train & 30% Test.\n",
    "\n",
    "why random ?\n",
    "==> Randon Sampling to avoid the Biasness.\n",
    "\n",
    "Why Train & Test?\n",
    "==> Testing should not be done on same data which you have built the Model.\n",
    "\n",
    "eg:- Teaching (Training)\n",
    "     Exam (Testing)\n",
    "     \n",
    "     Note:- If you do the testing on the same data on which you have built the model , you will get the accuracy which is very high but it will be high false accuracy.\n",
    "     "
   ]
  }
 ],
 "metadata": {
  "kernelspec": {
   "display_name": "Python 3 (ipykernel)",
   "language": "python",
   "name": "python3"
  },
  "language_info": {
   "codemirror_mode": {
    "name": "ipython",
    "version": 3
   },
   "file_extension": ".py",
   "mimetype": "text/x-python",
   "name": "python",
   "nbconvert_exporter": "python",
   "pygments_lexer": "ipython3",
   "version": "3.11.4"
  }
 },
 "nbformat": 4,
 "nbformat_minor": 5
}
