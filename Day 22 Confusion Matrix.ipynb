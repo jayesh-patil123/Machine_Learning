{
 "cells": [
  {
   "cell_type": "raw",
   "id": "8936a03f",
   "metadata": {},
   "source": [
    "* Confusion Matrix.\n",
    "\n",
    "1] Confusion Matrix is a evaluation matrix use for evaluateing the classificaytiom algorithoms.\n",
    "\n",
    "2] Original or actual values - Y or N & 0 or 1\n",
    "   Predicted values          - Y or N & 0 or 1\n",
    "   \n",
    "   Accuracy can not be only parameter. to judge the model.\n",
    "   \n",
    "we only do not focus on Accuracy we also want to focus on classes.\n",
    "\n",
    "Accuraccy = Total no of correct Prediction\n",
    "            -------------------------------\n",
    "                    Total Record\n",
    "                    \n",
    "     0     1     |          0       1\n",
    "0   5000  200    |   0   4000     1200\n",
    "                 |\n",
    "1   340   50     |   1   110      280\n",
    "Model A          |   Model B\n",
    "\n",
    "Acuraccy Model A = 5050 = 0.90 = 90%\n",
    "                   ____\n",
    "                   5590\n",
    "                   \n",
    "Acuraccy Model B = 4280 = 0.76 = 76%\n",
    "                   ____\n",
    "                   5590\n",
    "                   \n",
    "* Model B is good that model A\n",
    "             |      Predicted\n",
    "  -----------|-----------------\n",
    "             |   |     0         1\n",
    "             ---------------------------\n",
    "  Accuraccy  |0  | 5000(TN)   200(FP)\n",
    "             |   |\n",
    "             |1  | 340(FN)    50(TP)\n",
    "             |   |\n",
    "                       \n",
    "                       \n",
    "* Class 0 will be called as Class N (Negative)\n",
    "* Class 1 will be called as Class P (Positive)\n",
    "\n",
    "1) TPR (True Positive Ratio) =   TP\n",
    "                               ------\n",
    "                               (TP +FN)\n",
    "  \n",
    "* TPR is always be the greater.\n",
    "                               \n",
    "2) FPR (False Positive Ratio) =   FP\n",
    "                               ------\n",
    "                               (FP +TN)\n",
    "\n",
    "* FPR to find the error in class 0\n",
    "* FPR is always be the lesser.\n",
    "                               \n",
    "3)"
   ]
  },
  {
   "cell_type": "markdown",
   "id": "13d557f9",
   "metadata": {},
   "source": []
  }
 ],
 "metadata": {
  "kernelspec": {
   "display_name": "Python 3 (ipykernel)",
   "language": "python",
   "name": "python3"
  },
  "language_info": {
   "codemirror_mode": {
    "name": "ipython",
    "version": 3
   },
   "file_extension": ".py",
   "mimetype": "text/x-python",
   "name": "python",
   "nbconvert_exporter": "python",
   "pygments_lexer": "ipython3",
   "version": "3.11.4"
  }
 },
 "nbformat": 4,
 "nbformat_minor": 5
}
