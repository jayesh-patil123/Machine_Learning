{
 "cells": [
  {
   "cell_type": "code",
   "execution_count": null,
   "id": "26b11681",
   "metadata": {},
   "outputs": [],
   "source": [
    "import pandas as pd\n",
    "import numpy as np\n",
    "pd.set_option('display.max_columns',None)\n",
    "pd.set_option('display.max_row',None)"
   ]
  },
  {
   "cell_type": "code",
   "execution_count": null,
   "id": "2073b1c0-b7a3-486c-82bf-33beaab4db53",
   "metadata": {},
   "outputs": [],
   "source": [
    "A = pd.read_csv(r'adultKNN.csv')"
   ]
  },
  {
   "cell_type": "code",
   "execution_count": null,
   "id": "42ac09b8-c56b-4c2f-80b8-433f558d6a79",
   "metadata": {},
   "outputs": [],
   "source": [
    "A.head()"
   ]
  },
  {
   "cell_type": "code",
   "execution_count": null,
   "id": "83673d7d-635b-4c08-9b79-60c40417377c",
   "metadata": {},
   "outputs": [],
   "source": [
    "A.isnull().sum()"
   ]
  },
  {
   "cell_type": "code",
   "execution_count": null,
   "id": "e03aabc7-8031-4d15-bf5d-365214c9c2c3",
   "metadata": {},
   "outputs": [],
   "source": [
    "A.replace('?' , pd.NA , inplace=True)"
   ]
  },
  {
   "cell_type": "code",
   "execution_count": null,
   "id": "510c9078-12ef-4a11-b18d-156e632669cf",
   "metadata": {},
   "outputs": [],
   "source": [
    "A.isnull().sum()"
   ]
  },
  {
   "cell_type": "code",
   "execution_count": null,
   "id": "8a0eb91c-e3df-4316-9b8e-9c056c977348",
   "metadata": {},
   "outputs": [],
   "source": [
    "A.workclass.value_counts()"
   ]
  },
  {
   "cell_type": "code",
   "execution_count": null,
   "id": "ce57bccf-411d-495b-baef-6da5f54464d6",
   "metadata": {},
   "outputs": [],
   "source": [
    "A.workclass = A.workclass.fillna('Private')"
   ]
  },
  {
   "cell_type": "code",
   "execution_count": null,
   "id": "5067e0b8-ab88-44e8-9944-cd3a06051695",
   "metadata": {},
   "outputs": [],
   "source": [
    "A.occupation.value_counts()"
   ]
  },
  {
   "cell_type": "code",
   "execution_count": null,
   "id": "e503e20f-1895-499b-ae5d-624495911108",
   "metadata": {},
   "outputs": [],
   "source": [
    "A.occupation = A.occupation.fillna('Prof-specialty')"
   ]
  },
  {
   "cell_type": "code",
   "execution_count": null,
   "id": "eb39c405-7525-4feb-a660-507790e14e8a",
   "metadata": {},
   "outputs": [],
   "source": [
    "A['native-country'].value_counts()"
   ]
  },
  {
   "cell_type": "code",
   "execution_count": null,
   "id": "c9b4560f-a211-44c2-abce-9ea8670afe06",
   "metadata": {},
   "outputs": [],
   "source": [
    "A['native-country'] = A['native-country'].fillna(\"United-States\")"
   ]
  },
  {
   "cell_type": "code",
   "execution_count": null,
   "id": "ee4775f5-711d-4c46-ac1d-3771efcab23a",
   "metadata": {},
   "outputs": [],
   "source": [
    "A.isnull().sum()"
   ]
  },
  {
   "cell_type": "code",
   "execution_count": null,
   "id": "08423e01-dd34-45dd-85fd-f3ca5f0b6c7f",
   "metadata": {},
   "outputs": [],
   "source": [
    "A.info()"
   ]
  },
  {
   "cell_type": "code",
   "execution_count": null,
   "id": "3c07b5ed-9e54-407c-ae55-5947f7c3c249",
   "metadata": {},
   "outputs": [],
   "source": [
    "from sklearn.preprocessing import LabelEncoder\n",
    "le = LabelEncoder()"
   ]
  },
  {
   "cell_type": "code",
   "execution_count": null,
   "id": "bb786eb5-7bb3-4c01-9e46-c82a049d2604",
   "metadata": {},
   "outputs": [],
   "source": [
    "A[A.select_dtypes(include=['object']).columns] = A[A.select_dtypes(include=['object']).columns].apply(le.fit_transform)"
   ]
  },
  {
   "cell_type": "code",
   "execution_count": null,
   "id": "afa39417-335a-4504-a090-469cab076c2f",
   "metadata": {},
   "outputs": [],
   "source": [
    "A.info()"
   ]
  },
  {
   "cell_type": "code",
   "execution_count": null,
   "id": "404bc04b-9986-462a-af2a-4856f3341a77",
   "metadata": {},
   "outputs": [],
   "source": [
    "A.head()"
   ]
  },
  {
   "cell_type": "code",
   "execution_count": null,
   "id": "4d2e332b-7e2c-4645-93e3-1730135855cd",
   "metadata": {},
   "outputs": [],
   "source": [
    "# Sampling"
   ]
  },
  {
   "cell_type": "code",
   "execution_count": null,
   "id": "e465d0a4-db7e-4df9-99ce-c9c7938893dc",
   "metadata": {},
   "outputs": [],
   "source": [
    "from sklearn.model_selection import train_test_split\n",
    "A_train, A_test = train_test_split(A, test_size = .2)"
   ]
  },
  {
   "cell_type": "code",
   "execution_count": null,
   "id": "bfd048e5-2acb-4223-9949-0c90b1700322",
   "metadata": {},
   "outputs": [],
   "source": [
    "A_train_x = A_train.iloc[:,0:-1]\n",
    "A_train_y = A_train.iloc[:, -1]\n",
    "\n",
    "A_test_x = A_test.iloc[:,0:-1]\n",
    "A_test_y = A_test.iloc[:, -1]"
   ]
  },
  {
   "cell_type": "code",
   "execution_count": null,
   "id": "1f0eec4d-22ae-4269-b263-9c6874e578bd",
   "metadata": {},
   "outputs": [],
   "source": [
    "A_train_x.head()"
   ]
  },
  {
   "cell_type": "code",
   "execution_count": null,
   "id": "841e6eea-13eb-4dc7-947b-100ffb7e1b58",
   "metadata": {},
   "outputs": [],
   "source": [
    "A_train_y.head()"
   ]
  },
  {
   "cell_type": "code",
   "execution_count": null,
   "id": "6e835aaa-7bd7-445a-bd6e-76d86939f053",
   "metadata": {},
   "outputs": [],
   "source": [
    "from sklearn.neighbors import KNeighborsClassifier"
   ]
  },
  {
   "cell_type": "code",
   "execution_count": null,
   "id": "9dd73905-d516-4ec5-83aa-e27598b19378",
   "metadata": {},
   "outputs": [],
   "source": [
    "Aknn = KNeighborsClassifier(n_neighbors=20,weights='distance')"
   ]
  },
  {
   "cell_type": "code",
   "execution_count": null,
   "id": "1b3c8185-3149-4f14-a565-6619d5286d09",
   "metadata": {},
   "outputs": [],
   "source": [
    "Aknn.fit(A_train_x , A_train_y)"
   ]
  },
  {
   "cell_type": "code",
   "execution_count": null,
   "id": "2770e8e1-e35e-4952-9103-6a264fa85ea3",
   "metadata": {},
   "outputs": [],
   "source": [
    "pred_knn = Aknn.predict(A_test_x)\n",
    "pred_knn"
   ]
  },
  {
   "cell_type": "code",
   "execution_count": null,
   "id": "28ba0153-d0cd-40c5-81b6-6a8274fc34e0",
   "metadata": {},
   "outputs": [],
   "source": [
    "from sklearn.metrics import confusion_matrix"
   ]
  },
  {
   "cell_type": "code",
   "execution_count": null,
   "id": "0399774c-2552-44a0-bca3-69d1c5296533",
   "metadata": {},
   "outputs": [],
   "source": [
    "tab_knn = confusion_matrix(A_test_y , pred_knn)\n",
    "tab_knn"
   ]
  },
  {
   "cell_type": "code",
   "execution_count": null,
   "id": "9ae45245-4d81-4b97-8550-d6c2ada4900a",
   "metadata": {},
   "outputs": [],
   "source": [
    "from sklearn.metrics import accuracy_score\n",
    "accuracy_score(A_test_y , pred_knn)"
   ]
  },
  {
   "cell_type": "code",
   "execution_count": null,
   "id": "d3005ed3-eff7-4a28-8c70-5c7f360daeaa",
   "metadata": {},
   "outputs": [],
   "source": [
    "# How to find the value of K\n",
    "# for this we will plot a graph betn Accuracy vs Stability"
   ]
  },
  {
   "cell_type": "code",
   "execution_count": null,
   "id": "059794bc-d687-49ae-8e87-6776a5429990",
   "metadata": {},
   "outputs": [],
   "source": [
    "acc = []\n",
    "for k in range(1,51):\n",
    "    Aknn = KNeighborsClassifier(n_neighbors = k)\n",
    "    Aknn.fit(A_train_x, A_train_y)\n",
    "    pred_knn = Aknn.predict(A_test_x)\n",
    "    tab_knn = confusion_matrix(A_test_y , pred_knn)\n",
    "    acc.append(tab_knn.diagonal().sum()*100 / tab_knn.sum())"
   ]
  },
  {
   "cell_type": "code",
   "execution_count": null,
   "id": "c9514d0d-06a6-4f59-a444-adf219890703",
   "metadata": {},
   "outputs": [],
   "source": [
    "k_values = list(range(1,51))"
   ]
  },
  {
   "cell_type": "code",
   "execution_count": null,
   "id": "9ad18289-469e-4046-abea-e31899af90c4",
   "metadata": {},
   "outputs": [],
   "source": [
    "#k_values"
   ]
  },
  {
   "cell_type": "code",
   "execution_count": null,
   "id": "46ce65b7-f392-4396-ab7e-aa5664ce75c3",
   "metadata": {},
   "outputs": [],
   "source": [
    "import matplotlib.pyplot as plt"
   ]
  },
  {
   "cell_type": "code",
   "execution_count": null,
   "id": "df5bffe2-7734-4647-b4ef-dcc1d2ff9200",
   "metadata": {},
   "outputs": [],
   "source": [
    "plt.plot(k_values , acc)"
   ]
  },
  {
   "cell_type": "code",
   "execution_count": null,
   "id": "772b22e6-d40d-4826-89be-3d2a32c9bebc",
   "metadata": {},
   "outputs": [],
   "source": []
  }
 ],
 "metadata": {
  "kernelspec": {
   "display_name": "Python 3 (ipykernel)",
   "language": "python",
   "name": "python3"
  },
  "language_info": {
   "codemirror_mode": {
    "name": "ipython",
    "version": 3
   },
   "file_extension": ".py",
   "mimetype": "text/x-python",
   "name": "python",
   "nbconvert_exporter": "python",
   "pygments_lexer": "ipython3",
   "version": "3.11.9"
  }
 },
 "nbformat": 4,
 "nbformat_minor": 5
}
