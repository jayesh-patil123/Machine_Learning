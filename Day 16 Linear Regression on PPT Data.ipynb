{
 "cells": [
  {
   "cell_type": "code",
   "execution_count": 1,
   "id": "d2e5dee1",
   "metadata": {},
   "outputs": [],
   "source": [
    "import numpy as np\n",
    "import pandas as pd"
   ]
  },
  {
   "cell_type": "code",
   "execution_count": 2,
   "id": "d958f617",
   "metadata": {},
   "outputs": [],
   "source": [
    "ppt = pd.read_csv(r\"Property_Price_Train.csv\")"
   ]
  },
  {
   "cell_type": "code",
   "execution_count": 3,
   "id": "da716c56",
   "metadata": {},
   "outputs": [
    {
     "data": {
      "text/html": [
       "<div>\n",
       "<style scoped>\n",
       "    .dataframe tbody tr th:only-of-type {\n",
       "        vertical-align: middle;\n",
       "    }\n",
       "\n",
       "    .dataframe tbody tr th {\n",
       "        vertical-align: top;\n",
       "    }\n",
       "\n",
       "    .dataframe thead th {\n",
       "        text-align: right;\n",
       "    }\n",
       "</style>\n",
       "<table border=\"1\" class=\"dataframe\">\n",
       "  <thead>\n",
       "    <tr style=\"text-align: right;\">\n",
       "      <th></th>\n",
       "      <th>Id</th>\n",
       "      <th>Building_Class</th>\n",
       "      <th>Zoning_Class</th>\n",
       "      <th>Lot_Extent</th>\n",
       "      <th>Lot_Size</th>\n",
       "      <th>Road_Type</th>\n",
       "      <th>Lane_Type</th>\n",
       "      <th>Property_Shape</th>\n",
       "      <th>Land_Outline</th>\n",
       "      <th>Utility_Type</th>\n",
       "      <th>...</th>\n",
       "      <th>Pool_Area</th>\n",
       "      <th>Pool_Quality</th>\n",
       "      <th>Fence_Quality</th>\n",
       "      <th>Miscellaneous_Feature</th>\n",
       "      <th>Miscellaneous_Value</th>\n",
       "      <th>Month_Sold</th>\n",
       "      <th>Year_Sold</th>\n",
       "      <th>Sale_Type</th>\n",
       "      <th>Sale_Condition</th>\n",
       "      <th>Sale_Price</th>\n",
       "    </tr>\n",
       "  </thead>\n",
       "  <tbody>\n",
       "    <tr>\n",
       "      <th>0</th>\n",
       "      <td>1</td>\n",
       "      <td>60</td>\n",
       "      <td>RLD</td>\n",
       "      <td>65.0</td>\n",
       "      <td>8450</td>\n",
       "      <td>Paved</td>\n",
       "      <td>NaN</td>\n",
       "      <td>Reg</td>\n",
       "      <td>Lvl</td>\n",
       "      <td>AllPub</td>\n",
       "      <td>...</td>\n",
       "      <td>0</td>\n",
       "      <td>NaN</td>\n",
       "      <td>NaN</td>\n",
       "      <td>NaN</td>\n",
       "      <td>0</td>\n",
       "      <td>2</td>\n",
       "      <td>2008</td>\n",
       "      <td>WD</td>\n",
       "      <td>Normal</td>\n",
       "      <td>208500</td>\n",
       "    </tr>\n",
       "    <tr>\n",
       "      <th>1</th>\n",
       "      <td>2</td>\n",
       "      <td>20</td>\n",
       "      <td>RLD</td>\n",
       "      <td>80.0</td>\n",
       "      <td>9600</td>\n",
       "      <td>Paved</td>\n",
       "      <td>NaN</td>\n",
       "      <td>Reg</td>\n",
       "      <td>Lvl</td>\n",
       "      <td>AllPub</td>\n",
       "      <td>...</td>\n",
       "      <td>0</td>\n",
       "      <td>NaN</td>\n",
       "      <td>NaN</td>\n",
       "      <td>NaN</td>\n",
       "      <td>0</td>\n",
       "      <td>5</td>\n",
       "      <td>2007</td>\n",
       "      <td>WD</td>\n",
       "      <td>Normal</td>\n",
       "      <td>181500</td>\n",
       "    </tr>\n",
       "    <tr>\n",
       "      <th>2</th>\n",
       "      <td>3</td>\n",
       "      <td>60</td>\n",
       "      <td>RLD</td>\n",
       "      <td>68.0</td>\n",
       "      <td>11250</td>\n",
       "      <td>Paved</td>\n",
       "      <td>NaN</td>\n",
       "      <td>IR1</td>\n",
       "      <td>Lvl</td>\n",
       "      <td>AllPub</td>\n",
       "      <td>...</td>\n",
       "      <td>0</td>\n",
       "      <td>NaN</td>\n",
       "      <td>NaN</td>\n",
       "      <td>NaN</td>\n",
       "      <td>0</td>\n",
       "      <td>9</td>\n",
       "      <td>2008</td>\n",
       "      <td>WD</td>\n",
       "      <td>Normal</td>\n",
       "      <td>223500</td>\n",
       "    </tr>\n",
       "    <tr>\n",
       "      <th>3</th>\n",
       "      <td>4</td>\n",
       "      <td>70</td>\n",
       "      <td>RLD</td>\n",
       "      <td>60.0</td>\n",
       "      <td>9550</td>\n",
       "      <td>Paved</td>\n",
       "      <td>NaN</td>\n",
       "      <td>IR1</td>\n",
       "      <td>Lvl</td>\n",
       "      <td>AllPub</td>\n",
       "      <td>...</td>\n",
       "      <td>0</td>\n",
       "      <td>NaN</td>\n",
       "      <td>NaN</td>\n",
       "      <td>NaN</td>\n",
       "      <td>0</td>\n",
       "      <td>2</td>\n",
       "      <td>2006</td>\n",
       "      <td>WD</td>\n",
       "      <td>Abnorml</td>\n",
       "      <td>140000</td>\n",
       "    </tr>\n",
       "    <tr>\n",
       "      <th>4</th>\n",
       "      <td>5</td>\n",
       "      <td>60</td>\n",
       "      <td>RLD</td>\n",
       "      <td>84.0</td>\n",
       "      <td>14260</td>\n",
       "      <td>Paved</td>\n",
       "      <td>NaN</td>\n",
       "      <td>IR1</td>\n",
       "      <td>Lvl</td>\n",
       "      <td>AllPub</td>\n",
       "      <td>...</td>\n",
       "      <td>0</td>\n",
       "      <td>NaN</td>\n",
       "      <td>NaN</td>\n",
       "      <td>NaN</td>\n",
       "      <td>0</td>\n",
       "      <td>12</td>\n",
       "      <td>2008</td>\n",
       "      <td>WD</td>\n",
       "      <td>Normal</td>\n",
       "      <td>250000</td>\n",
       "    </tr>\n",
       "    <tr>\n",
       "      <th>...</th>\n",
       "      <td>...</td>\n",
       "      <td>...</td>\n",
       "      <td>...</td>\n",
       "      <td>...</td>\n",
       "      <td>...</td>\n",
       "      <td>...</td>\n",
       "      <td>...</td>\n",
       "      <td>...</td>\n",
       "      <td>...</td>\n",
       "      <td>...</td>\n",
       "      <td>...</td>\n",
       "      <td>...</td>\n",
       "      <td>...</td>\n",
       "      <td>...</td>\n",
       "      <td>...</td>\n",
       "      <td>...</td>\n",
       "      <td>...</td>\n",
       "      <td>...</td>\n",
       "      <td>...</td>\n",
       "      <td>...</td>\n",
       "      <td>...</td>\n",
       "    </tr>\n",
       "    <tr>\n",
       "      <th>1454</th>\n",
       "      <td>1455</td>\n",
       "      <td>20</td>\n",
       "      <td>FVR</td>\n",
       "      <td>62.0</td>\n",
       "      <td>7500</td>\n",
       "      <td>Paved</td>\n",
       "      <td>Paved</td>\n",
       "      <td>Reg</td>\n",
       "      <td>Lvl</td>\n",
       "      <td>AllPub</td>\n",
       "      <td>...</td>\n",
       "      <td>0</td>\n",
       "      <td>NaN</td>\n",
       "      <td>NaN</td>\n",
       "      <td>NaN</td>\n",
       "      <td>0</td>\n",
       "      <td>10</td>\n",
       "      <td>2009</td>\n",
       "      <td>WD</td>\n",
       "      <td>Normal</td>\n",
       "      <td>185000</td>\n",
       "    </tr>\n",
       "    <tr>\n",
       "      <th>1455</th>\n",
       "      <td>1456</td>\n",
       "      <td>60</td>\n",
       "      <td>RLD</td>\n",
       "      <td>62.0</td>\n",
       "      <td>7917</td>\n",
       "      <td>Paved</td>\n",
       "      <td>NaN</td>\n",
       "      <td>Reg</td>\n",
       "      <td>Lvl</td>\n",
       "      <td>AllPub</td>\n",
       "      <td>...</td>\n",
       "      <td>0</td>\n",
       "      <td>NaN</td>\n",
       "      <td>NaN</td>\n",
       "      <td>NaN</td>\n",
       "      <td>0</td>\n",
       "      <td>8</td>\n",
       "      <td>2007</td>\n",
       "      <td>WD</td>\n",
       "      <td>Normal</td>\n",
       "      <td>175000</td>\n",
       "    </tr>\n",
       "    <tr>\n",
       "      <th>1456</th>\n",
       "      <td>1457</td>\n",
       "      <td>20</td>\n",
       "      <td>RLD</td>\n",
       "      <td>85.0</td>\n",
       "      <td>13175</td>\n",
       "      <td>Paved</td>\n",
       "      <td>NaN</td>\n",
       "      <td>Reg</td>\n",
       "      <td>Lvl</td>\n",
       "      <td>AllPub</td>\n",
       "      <td>...</td>\n",
       "      <td>0</td>\n",
       "      <td>NaN</td>\n",
       "      <td>MnPrv</td>\n",
       "      <td>NaN</td>\n",
       "      <td>0</td>\n",
       "      <td>2</td>\n",
       "      <td>2010</td>\n",
       "      <td>WD</td>\n",
       "      <td>Normal</td>\n",
       "      <td>210000</td>\n",
       "    </tr>\n",
       "    <tr>\n",
       "      <th>1457</th>\n",
       "      <td>1458</td>\n",
       "      <td>70</td>\n",
       "      <td>RLD</td>\n",
       "      <td>66.0</td>\n",
       "      <td>9042</td>\n",
       "      <td>Paved</td>\n",
       "      <td>NaN</td>\n",
       "      <td>Reg</td>\n",
       "      <td>Lvl</td>\n",
       "      <td>AllPub</td>\n",
       "      <td>...</td>\n",
       "      <td>0</td>\n",
       "      <td>NaN</td>\n",
       "      <td>GdPrv</td>\n",
       "      <td>Shed</td>\n",
       "      <td>2500</td>\n",
       "      <td>5</td>\n",
       "      <td>2010</td>\n",
       "      <td>WD</td>\n",
       "      <td>Normal</td>\n",
       "      <td>266500</td>\n",
       "    </tr>\n",
       "    <tr>\n",
       "      <th>1458</th>\n",
       "      <td>1459</td>\n",
       "      <td>20</td>\n",
       "      <td>RLD</td>\n",
       "      <td>68.0</td>\n",
       "      <td>9717</td>\n",
       "      <td>Paved</td>\n",
       "      <td>NaN</td>\n",
       "      <td>Reg</td>\n",
       "      <td>Lvl</td>\n",
       "      <td>AllPub</td>\n",
       "      <td>...</td>\n",
       "      <td>0</td>\n",
       "      <td>NaN</td>\n",
       "      <td>NaN</td>\n",
       "      <td>NaN</td>\n",
       "      <td>0</td>\n",
       "      <td>4</td>\n",
       "      <td>2010</td>\n",
       "      <td>WD</td>\n",
       "      <td>Normal</td>\n",
       "      <td>142125</td>\n",
       "    </tr>\n",
       "  </tbody>\n",
       "</table>\n",
       "<p>1459 rows × 81 columns</p>\n",
       "</div>"
      ],
      "text/plain": [
       "        Id  Building_Class Zoning_Class  Lot_Extent  Lot_Size Road_Type  \\\n",
       "0        1              60          RLD        65.0      8450     Paved   \n",
       "1        2              20          RLD        80.0      9600     Paved   \n",
       "2        3              60          RLD        68.0     11250     Paved   \n",
       "3        4              70          RLD        60.0      9550     Paved   \n",
       "4        5              60          RLD        84.0     14260     Paved   \n",
       "...    ...             ...          ...         ...       ...       ...   \n",
       "1454  1455              20          FVR        62.0      7500     Paved   \n",
       "1455  1456              60          RLD        62.0      7917     Paved   \n",
       "1456  1457              20          RLD        85.0     13175     Paved   \n",
       "1457  1458              70          RLD        66.0      9042     Paved   \n",
       "1458  1459              20          RLD        68.0      9717     Paved   \n",
       "\n",
       "     Lane_Type Property_Shape Land_Outline Utility_Type  ... Pool_Area  \\\n",
       "0          NaN            Reg          Lvl       AllPub  ...         0   \n",
       "1          NaN            Reg          Lvl       AllPub  ...         0   \n",
       "2          NaN            IR1          Lvl       AllPub  ...         0   \n",
       "3          NaN            IR1          Lvl       AllPub  ...         0   \n",
       "4          NaN            IR1          Lvl       AllPub  ...         0   \n",
       "...        ...            ...          ...          ...  ...       ...   \n",
       "1454     Paved            Reg          Lvl       AllPub  ...         0   \n",
       "1455       NaN            Reg          Lvl       AllPub  ...         0   \n",
       "1456       NaN            Reg          Lvl       AllPub  ...         0   \n",
       "1457       NaN            Reg          Lvl       AllPub  ...         0   \n",
       "1458       NaN            Reg          Lvl       AllPub  ...         0   \n",
       "\n",
       "     Pool_Quality Fence_Quality Miscellaneous_Feature Miscellaneous_Value  \\\n",
       "0             NaN           NaN                   NaN                   0   \n",
       "1             NaN           NaN                   NaN                   0   \n",
       "2             NaN           NaN                   NaN                   0   \n",
       "3             NaN           NaN                   NaN                   0   \n",
       "4             NaN           NaN                   NaN                   0   \n",
       "...           ...           ...                   ...                 ...   \n",
       "1454          NaN           NaN                   NaN                   0   \n",
       "1455          NaN           NaN                   NaN                   0   \n",
       "1456          NaN         MnPrv                   NaN                   0   \n",
       "1457          NaN         GdPrv                  Shed                2500   \n",
       "1458          NaN           NaN                   NaN                   0   \n",
       "\n",
       "     Month_Sold Year_Sold  Sale_Type  Sale_Condition  Sale_Price  \n",
       "0             2      2008         WD          Normal      208500  \n",
       "1             5      2007         WD          Normal      181500  \n",
       "2             9      2008         WD          Normal      223500  \n",
       "3             2      2006         WD         Abnorml      140000  \n",
       "4            12      2008         WD          Normal      250000  \n",
       "...         ...       ...        ...             ...         ...  \n",
       "1454         10      2009         WD          Normal      185000  \n",
       "1455          8      2007         WD          Normal      175000  \n",
       "1456          2      2010         WD          Normal      210000  \n",
       "1457          5      2010         WD          Normal      266500  \n",
       "1458          4      2010         WD          Normal      142125  \n",
       "\n",
       "[1459 rows x 81 columns]"
      ]
     },
     "execution_count": 3,
     "metadata": {},
     "output_type": "execute_result"
    }
   ],
   "source": [
    "ppt"
   ]
  },
  {
   "cell_type": "code",
   "execution_count": 4,
   "id": "64b390c0",
   "metadata": {},
   "outputs": [
    {
     "data": {
      "text/plain": [
       "(1459, 81)"
      ]
     },
     "execution_count": 4,
     "metadata": {},
     "output_type": "execute_result"
    }
   ],
   "source": [
    "ppt.shape"
   ]
  },
  {
   "cell_type": "code",
   "execution_count": 53,
   "id": "805b9126",
   "metadata": {},
   "outputs": [
    {
     "name": "stdout",
     "output_type": "stream",
     "text": [
      "<class 'pandas.core.frame.DataFrame'>\n",
      "RangeIndex: 1459 entries, 0 to 1458\n",
      "Data columns (total 81 columns):\n",
      " #   Column                     Non-Null Count  Dtype  \n",
      "---  ------                     --------------  -----  \n",
      " 0   Id                         1459 non-null   int64  \n",
      " 1   Building_Class             1459 non-null   int64  \n",
      " 2   Zoning_Class               1459 non-null   int64  \n",
      " 3   Lot_Extent                 1200 non-null   float64\n",
      " 4   Lot_Size                   1459 non-null   int64  \n",
      " 5   Road_Type                  1459 non-null   int64  \n",
      " 6   Lane_Type                  91 non-null     float64\n",
      " 7   Property_Shape             1459 non-null   int64  \n",
      " 8   Land_Outline               1459 non-null   int64  \n",
      " 9   Utility_Type               1459 non-null   int64  \n",
      " 10  Lot_Configuration          1459 non-null   int64  \n",
      " 11  Property_Slope             1459 non-null   int64  \n",
      " 12  Neighborhood               1459 non-null   object \n",
      " 13  Condition1                 1459 non-null   object \n",
      " 14  Condition2                 1459 non-null   object \n",
      " 15  House_Type                 1459 non-null   object \n",
      " 16  House_Design               1459 non-null   object \n",
      " 17  Overall_Material           1459 non-null   int64  \n",
      " 18  House_Condition            1459 non-null   int64  \n",
      " 19  Construction_Year          1459 non-null   int64  \n",
      " 20  Remodel_Year               1459 non-null   int64  \n",
      " 21  Roof_Design                1459 non-null   object \n",
      " 22  Roof_Quality               1459 non-null   object \n",
      " 23  Exterior1st                1459 non-null   object \n",
      " 24  Exterior2nd                1459 non-null   object \n",
      " 25  Brick_Veneer_Type          1451 non-null   object \n",
      " 26  Brick_Veneer_Area          1451 non-null   float64\n",
      " 27  Exterior_Material          1459 non-null   object \n",
      " 28  Exterior_Condition         1459 non-null   object \n",
      " 29  Foundation_Type            1459 non-null   object \n",
      " 30  Basement_Height            1422 non-null   object \n",
      " 31  Basement_Condition         1422 non-null   object \n",
      " 32  Exposure_Level             1421 non-null   object \n",
      " 33  BsmtFinType1               1422 non-null   object \n",
      " 34  BsmtFinSF1                 1459 non-null   int64  \n",
      " 35  BsmtFinType2               1421 non-null   object \n",
      " 36  BsmtFinSF2                 1459 non-null   int64  \n",
      " 37  BsmtUnfSF                  1459 non-null   int64  \n",
      " 38  Total_Basement_Area        1459 non-null   int64  \n",
      " 39  Heating_Type               1459 non-null   object \n",
      " 40  Heating_Quality            1459 non-null   object \n",
      " 41  Air_Conditioning           1459 non-null   object \n",
      " 42  Electrical_System          1458 non-null   object \n",
      " 43  First_Floor_Area           1459 non-null   int64  \n",
      " 44  Second_Floor_Area          1459 non-null   int64  \n",
      " 45  LowQualFinSF               1459 non-null   int64  \n",
      " 46  Grade_Living_Area          1459 non-null   int64  \n",
      " 47  Underground_Full_Bathroom  1459 non-null   int64  \n",
      " 48  Underground_Half_Bathroom  1459 non-null   int64  \n",
      " 49  Full_Bathroom_Above_Grade  1459 non-null   int64  \n",
      " 50  Half_Bathroom_Above_Grade  1459 non-null   int64  \n",
      " 51  Bedroom_Above_Grade        1459 non-null   int64  \n",
      " 52  Kitchen_Above_Grade        1459 non-null   int64  \n",
      " 53  Kitchen_Quality            1459 non-null   object \n",
      " 54  Rooms_Above_Grade          1459 non-null   int64  \n",
      " 55  Functional_Rate            1459 non-null   object \n",
      " 56  Fireplaces                 1459 non-null   int64  \n",
      " 57  Fireplace_Quality          770 non-null    object \n",
      " 58  Garage                     1378 non-null   object \n",
      " 59  Garage_Built_Year          1378 non-null   float64\n",
      " 60  Garage_Finish_Year         1378 non-null   object \n",
      " 61  Garage_Size                1459 non-null   int64  \n",
      " 62  Garage_Area                1459 non-null   float64\n",
      " 63  Garage_Quality             1378 non-null   object \n",
      " 64  Garage_Condition           1378 non-null   object \n",
      " 65  Pavedd_Drive               1459 non-null   object \n",
      " 66  W_Deck_Area                1459 non-null   float64\n",
      " 67  Open_Lobby_Area            1459 non-null   float64\n",
      " 68  Enclosed_Lobby_Area        1459 non-null   float64\n",
      " 69  Three_Season_Lobby_Area    1459 non-null   int64  \n",
      " 70  Screen_Lobby_Area          1459 non-null   int64  \n",
      " 71  Pool_Area                  1459 non-null   int64  \n",
      " 72  Pool_Quality               7 non-null      object \n",
      " 73  Fence_Quality              281 non-null    object \n",
      " 74  Miscellaneous_Feature      54 non-null     object \n",
      " 75  Miscellaneous_Value        1459 non-null   int64  \n",
      " 76  Month_Sold                 1459 non-null   int64  \n",
      " 77  Year_Sold                  1459 non-null   int64  \n",
      " 78  Sale_Type                  1459 non-null   object \n",
      " 79  Sale_Condition             1459 non-null   object \n",
      " 80  Sale_Price                 1459 non-null   int64  \n",
      "dtypes: float64(8), int64(38), object(35)\n",
      "memory usage: 923.4+ KB\n"
     ]
    }
   ],
   "source": [
    "ppt.info()"
   ]
  },
  {
   "cell_type": "code",
   "execution_count": 52,
   "id": "d8a0e69c",
   "metadata": {},
   "outputs": [
    {
     "data": {
      "text/plain": [
       "Id                  0\n",
       "Building_Class      0\n",
       "Zoning_Class        0\n",
       "Lot_Extent        259\n",
       "Lot_Size            0\n",
       "                 ... \n",
       "Month_Sold          0\n",
       "Year_Sold           0\n",
       "Sale_Type           0\n",
       "Sale_Condition      0\n",
       "Sale_Price          0\n",
       "Length: 81, dtype: int64"
      ]
     },
     "execution_count": 52,
     "metadata": {},
     "output_type": "execute_result"
    }
   ],
   "source": [
    "ppt.isnull().sum()"
   ]
  },
  {
   "cell_type": "code",
   "execution_count": 7,
   "id": "56657c2b",
   "metadata": {},
   "outputs": [],
   "source": [
    "# Data Cleaning."
   ]
  },
  {
   "cell_type": "code",
   "execution_count": 16,
   "id": "f7b74a95",
   "metadata": {},
   "outputs": [
    {
     "data": {
      "text/plain": [
       "0    1150\n",
       "1     218\n",
       "2      65\n",
       "3      16\n",
       "5      10\n",
       "Name: Zoning_Class, dtype: int64"
      ]
     },
     "execution_count": 16,
     "metadata": {},
     "output_type": "execute_result"
    }
   ],
   "source": [
    "ppt.Zoning_Class.value_counts()"
   ]
  },
  {
   "cell_type": "code",
   "execution_count": 15,
   "id": "836d0875",
   "metadata": {},
   "outputs": [],
   "source": [
    "ppt.Zoning_Class.replace({'RLD':0, 'RMD':1, 'FVR':2, 'RHD':3, 'Commer':5}, inplace=True)"
   ]
  },
  {
   "cell_type": "code",
   "execution_count": 20,
   "id": "a594d03d",
   "metadata": {},
   "outputs": [
    {
     "data": {
      "text/plain": [
       "1    1453\n",
       "0       6\n",
       "Name: Road_Type, dtype: int64"
      ]
     },
     "execution_count": 20,
     "metadata": {},
     "output_type": "execute_result"
    }
   ],
   "source": [
    "ppt.Road_Type.value_counts()"
   ]
  },
  {
   "cell_type": "code",
   "execution_count": 19,
   "id": "fa4ed2a4",
   "metadata": {},
   "outputs": [],
   "source": [
    "ppt.Road_Type.replace({'Paved':1, 'Gravel':0}, inplace=True)"
   ]
  },
  {
   "cell_type": "code",
   "execution_count": 29,
   "id": "c40841c6",
   "metadata": {},
   "outputs": [
    {
     "data": {
      "text/plain": [
       "1.0    50\n",
       "0.0    41\n",
       "Name: Lane_Type, dtype: int64"
      ]
     },
     "execution_count": 29,
     "metadata": {},
     "output_type": "execute_result"
    }
   ],
   "source": [
    "ppt.Lane_Type.value_counts()"
   ]
  },
  {
   "cell_type": "code",
   "execution_count": 24,
   "id": "8414a2dc",
   "metadata": {},
   "outputs": [],
   "source": [
    "ppt.Lane_Type.replace({'Grvl':1, 'Paved':0}, inplace=True)"
   ]
  },
  {
   "cell_type": "code",
   "execution_count": 28,
   "id": "83e0ba49",
   "metadata": {},
   "outputs": [
    {
     "data": {
      "text/plain": [
       "0    924\n",
       "1    484\n",
       "3     41\n",
       "4     10\n",
       "Name: Property_Shape, dtype: int64"
      ]
     },
     "execution_count": 28,
     "metadata": {},
     "output_type": "execute_result"
    }
   ],
   "source": [
    "ppt.Property_Shape.value_counts()"
   ]
  },
  {
   "cell_type": "code",
   "execution_count": 27,
   "id": "7860f74e",
   "metadata": {},
   "outputs": [],
   "source": [
    "ppt.Property_Shape.replace({'Reg':0, 'IR1':1, 'IR2':3, 'IR3':4}, inplace=True)"
   ]
  },
  {
   "cell_type": "code",
   "execution_count": 33,
   "id": "a2c27aa4",
   "metadata": {},
   "outputs": [
    {
     "data": {
      "text/plain": [
       "0    1310\n",
       "1      63\n",
       "2      50\n",
       "3      36\n",
       "Name: Land_Outline, dtype: int64"
      ]
     },
     "execution_count": 33,
     "metadata": {},
     "output_type": "execute_result"
    }
   ],
   "source": [
    "ppt.Land_Outline.value_counts()"
   ]
  },
  {
   "cell_type": "code",
   "execution_count": 32,
   "id": "ab7295cf",
   "metadata": {},
   "outputs": [],
   "source": [
    "ppt.Land_Outline.replace({'Lvl':0, 'Bnk':1, 'HLS':2, 'Low':3}, inplace=True)"
   ]
  },
  {
   "cell_type": "code",
   "execution_count": 40,
   "id": "fefe97ff",
   "metadata": {},
   "outputs": [
    {
     "data": {
      "text/plain": [
       "1    1458\n",
       "0       1\n",
       "Name: Utility_Type, dtype: int64"
      ]
     },
     "execution_count": 40,
     "metadata": {},
     "output_type": "execute_result"
    }
   ],
   "source": [
    "ppt.Utility_Type.value_counts()"
   ]
  },
  {
   "cell_type": "code",
   "execution_count": 39,
   "id": "ebc4c094",
   "metadata": {},
   "outputs": [],
   "source": [
    "ppt.Utility_Type.replace({'AllPub':1, 'NoSeWa':0}, inplace=True)"
   ]
  },
  {
   "cell_type": "code",
   "execution_count": 44,
   "id": "c5ea3136",
   "metadata": {},
   "outputs": [
    {
     "data": {
      "text/plain": [
       "0    1051\n",
       "1     263\n",
       "2      94\n",
       "3      47\n",
       "4       4\n",
       "Name: Lot_Configuration, dtype: int64"
      ]
     },
     "execution_count": 44,
     "metadata": {},
     "output_type": "execute_result"
    }
   ],
   "source": [
    "ppt.Lot_Configuration.value_counts()"
   ]
  },
  {
   "cell_type": "code",
   "execution_count": 43,
   "id": "dc8c0a55",
   "metadata": {},
   "outputs": [],
   "source": [
    "ppt.Lot_Configuration.replace({'I':0, 'C':1, 'CulDSac':2, 'FR2P':3, 'FR3P':4}, inplace=True)"
   ]
  },
  {
   "cell_type": "code",
   "execution_count": 46,
   "id": "db9b4cd1",
   "metadata": {},
   "outputs": [
    {
     "data": {
      "text/plain": [
       "GS    1381\n",
       "MS      65\n",
       "SS      13\n",
       "Name: Property_Slope, dtype: int64"
      ]
     },
     "execution_count": 46,
     "metadata": {},
     "output_type": "execute_result"
    }
   ],
   "source": [
    "ppt.Property_Slope.value_counts()"
   ]
  },
  {
   "cell_type": "code",
   "execution_count": 47,
   "id": "b97801ed",
   "metadata": {},
   "outputs": [],
   "source": [
    "ppt.Property_Slope.replace({'GS':0, 'MS':1, 'SS':2}, inplace=True)"
   ]
  },
  {
   "cell_type": "code",
   "execution_count": 54,
   "id": "6be4944e",
   "metadata": {},
   "outputs": [
    {
     "data": {
      "text/plain": [
       "NAmes      225\n",
       "CollgCr    150\n",
       "OldTown    113\n",
       "Edwards     99\n",
       "Somerst     86\n",
       "Gilbert     79\n",
       "NridgHt     77\n",
       "Sawyer      74\n",
       "NWAmes      73\n",
       "SawyerW     59\n",
       "BrkSide     58\n",
       "Crawfor     51\n",
       "Mitchel     49\n",
       "NoRidge     41\n",
       "Timber      38\n",
       "IDOTRR      37\n",
       "ClearCr     28\n",
       "StoneBr     25\n",
       "SWISU       25\n",
       "MeadowV     17\n",
       "Blmngtn     17\n",
       "BrDale      16\n",
       "Veenker     11\n",
       "NPkVill      9\n",
       "Blueste      2\n",
       "Name: Neighborhood, dtype: int64"
      ]
     },
     "execution_count": 54,
     "metadata": {},
     "output_type": "execute_result"
    }
   ],
   "source": [
    "ppt.Neighborhood.value_counts()"
   ]
  },
  {
   "cell_type": "code",
   "execution_count": null,
   "id": "706f8980",
   "metadata": {},
   "outputs": [],
   "source": []
  }
 ],
 "metadata": {
  "kernelspec": {
   "display_name": "Python 3 (ipykernel)",
   "language": "python",
   "name": "python3"
  },
  "language_info": {
   "codemirror_mode": {
    "name": "ipython",
    "version": 3
   },
   "file_extension": ".py",
   "mimetype": "text/x-python",
   "name": "python",
   "nbconvert_exporter": "python",
   "pygments_lexer": "ipython3",
   "version": "3.11.9"
  }
 },
 "nbformat": 4,
 "nbformat_minor": 5
}
