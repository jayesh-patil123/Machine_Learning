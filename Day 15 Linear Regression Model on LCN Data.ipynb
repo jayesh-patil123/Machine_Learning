{
 "cells": [
  {
   "cell_type": "code",
   "execution_count": null,
   "id": "35240e28",
   "metadata": {},
   "outputs": [],
   "source": [
    "import numpy as np\n",
    "import pandas as pd"
   ]
  },
  {
   "cell_type": "code",
   "execution_count": null,
   "id": "77363a1c",
   "metadata": {},
   "outputs": [],
   "source": [
    "# Mandatory conditions for Linear Regression.\n",
    "\n",
    "# 1. Target variable shoul always be numeric and continuous.\n",
    "# 2. Number of rows(N) should always be greater than no. of columns(K)."
   ]
  },
  {
   "cell_type": "code",
   "execution_count": null,
   "id": "277dbe9c",
   "metadata": {},
   "outputs": [],
   "source": [
    "lcn = pd.read_csv(r\"LungCapData.csv\")"
   ]
  },
  {
   "cell_type": "code",
   "execution_count": null,
   "id": "a9349ab1",
   "metadata": {},
   "outputs": [],
   "source": [
    "lcn"
   ]
  },
  {
   "cell_type": "code",
   "execution_count": null,
   "id": "0ab3b66e",
   "metadata": {},
   "outputs": [],
   "source": [
    "# Requirement is to built the predictive model which can predict the Lung capacity."
   ]
  },
  {
   "cell_type": "code",
   "execution_count": null,
   "id": "82f13e25",
   "metadata": {},
   "outputs": [],
   "source": [
    "# 3 step :- Data Cleaning"
   ]
  },
  {
   "cell_type": "code",
   "execution_count": null,
   "id": "0b78d087",
   "metadata": {},
   "outputs": [],
   "source": [
    "lcn.shape"
   ]
  },
  {
   "cell_type": "code",
   "execution_count": null,
   "id": "93f9f7df",
   "metadata": {},
   "outputs": [],
   "source": [
    "lcn.info()"
   ]
  },
  {
   "cell_type": "code",
   "execution_count": null,
   "id": "64d899da",
   "metadata": {},
   "outputs": [],
   "source": [
    "lcn.isnull().sum()"
   ]
  },
  {
   "cell_type": "code",
   "execution_count": null,
   "id": "3db7aaed",
   "metadata": {},
   "outputs": [],
   "source": [
    "lcn.describe()"
   ]
  },
  {
   "cell_type": "code",
   "execution_count": null,
   "id": "a02ea3bd",
   "metadata": {},
   "outputs": [],
   "source": [
    "lcn.Gender.value_counts()"
   ]
  },
  {
   "cell_type": "code",
   "execution_count": null,
   "id": "5a3bf1fe",
   "metadata": {},
   "outputs": [],
   "source": [
    "lcn.Gender.replace({'male':1, 'female':0}, inplace=True)"
   ]
  },
  {
   "cell_type": "code",
   "execution_count": null,
   "id": "1fa84920",
   "metadata": {},
   "outputs": [],
   "source": [
    "lcn"
   ]
  },
  {
   "cell_type": "code",
   "execution_count": null,
   "id": "2fac2c07",
   "metadata": {},
   "outputs": [],
   "source": [
    "lcn.Smoke.value_counts()"
   ]
  },
  {
   "cell_type": "code",
   "execution_count": null,
   "id": "8d57b270",
   "metadata": {},
   "outputs": [],
   "source": [
    "lcn.Smoke.replace({'yes':1, 'no':0}, inplace=True)"
   ]
  },
  {
   "cell_type": "code",
   "execution_count": null,
   "id": "89feac81",
   "metadata": {},
   "outputs": [],
   "source": [
    "lcn"
   ]
  },
  {
   "cell_type": "code",
   "execution_count": null,
   "id": "341d66e6",
   "metadata": {},
   "outputs": [],
   "source": [
    "lcn.Caesarean.value_counts()"
   ]
  },
  {
   "cell_type": "code",
   "execution_count": null,
   "id": "c13b9065",
   "metadata": {},
   "outputs": [],
   "source": [
    "lcn.Caesarean.replace({'yes':1, 'no':0}, inplace=True)"
   ]
  },
  {
   "cell_type": "code",
   "execution_count": null,
   "id": "4cc1145e",
   "metadata": {},
   "outputs": [],
   "source": [
    "lcn"
   ]
  },
  {
   "cell_type": "code",
   "execution_count": null,
   "id": "d4b8240a",
   "metadata": {},
   "outputs": [],
   "source": [
    "lcn.info()"
   ]
  },
  {
   "cell_type": "code",
   "execution_count": null,
   "id": "61b43dc0",
   "metadata": {},
   "outputs": [],
   "source": [
    "#Step 4 :- Sampling "
   ]
  },
  {
   "cell_type": "code",
   "execution_count": null,
   "id": "6e93adb6",
   "metadata": {},
   "outputs": [],
   "source": [
    "from sklearn.model_selection import train_test_split"
   ]
  },
  {
   "cell_type": "code",
   "execution_count": null,
   "id": "9b0be909",
   "metadata": {},
   "outputs": [],
   "source": [
    "lcn_train , lcn_test = train_test_split(lcn, test_size=.2)"
   ]
  },
  {
   "cell_type": "code",
   "execution_count": null,
   "id": "c36c45b0",
   "metadata": {},
   "outputs": [],
   "source": [
    "lcn_train.shape  # it will select Randomly data 580,"
   ]
  },
  {
   "cell_type": "code",
   "execution_count": null,
   "id": "5b8226dd",
   "metadata": {},
   "outputs": [],
   "source": [
    "lcn_test.shape   # it will select Randomly data 145."
   ]
  },
  {
   "cell_type": "code",
   "execution_count": null,
   "id": "d2fab977",
   "metadata": {},
   "outputs": [],
   "source": [
    "lcn_train_x = lcn_train.iloc[: , 1::]\n",
    "lcn_train_y = lcn_train.iloc[: , 0]"
   ]
  },
  {
   "cell_type": "code",
   "execution_count": null,
   "id": "dfc57cb6",
   "metadata": {},
   "outputs": [],
   "source": [
    "lcn_train_x"
   ]
  },
  {
   "cell_type": "code",
   "execution_count": null,
   "id": "00a31809",
   "metadata": {},
   "outputs": [],
   "source": [
    "lcn_train_y"
   ]
  },
  {
   "cell_type": "code",
   "execution_count": null,
   "id": "2406da5d",
   "metadata": {},
   "outputs": [],
   "source": [
    "lcn_test_x = lcn_test.iloc[: , 1::]\n",
    "lcn_test_y = lcn_test.iloc[: , 0]"
   ]
  },
  {
   "cell_type": "code",
   "execution_count": null,
   "id": "a1392e63",
   "metadata": {},
   "outputs": [],
   "source": [
    "lcn_test_x"
   ]
  },
  {
   "cell_type": "code",
   "execution_count": null,
   "id": "4a4cebae",
   "metadata": {},
   "outputs": [],
   "source": [
    "lcn_test_y"
   ]
  },
  {
   "cell_type": "code",
   "execution_count": null,
   "id": "3d44cd66",
   "metadata": {},
   "outputs": [],
   "source": [
    "# Step 5 :- Building the model\n",
    "\n",
    "        # - Import the necessary  function from sklearn.\n",
    "        # - create an object of that function.\n",
    "        # - Run the FIT Function and then model is created.\n",
    "        # - Run the prediction(predict) Function"
   ]
  },
  {
   "cell_type": "code",
   "execution_count": null,
   "id": "0be11784",
   "metadata": {},
   "outputs": [],
   "source": [
    "from sklearn.linear_model import LinearRegression"
   ]
  },
  {
   "cell_type": "code",
   "execution_count": null,
   "id": "3a54e7e7",
   "metadata": {},
   "outputs": [],
   "source": [
    "linereg = LinearRegression()"
   ]
  },
  {
   "cell_type": "code",
   "execution_count": null,
   "id": "ba853a20",
   "metadata": {},
   "outputs": [],
   "source": [
    "linereg.fit(lcn_train_x, lcn_train_y)"
   ]
  },
  {
   "cell_type": "code",
   "execution_count": null,
   "id": "bfc4b1d0",
   "metadata": {},
   "outputs": [],
   "source": [
    "pred_train = linereg.predict(lcn_train_x)\n",
    "pred_test = linereg.predict(lcn_test_x)"
   ]
  },
  {
   "cell_type": "code",
   "execution_count": null,
   "id": "235620c0",
   "metadata": {},
   "outputs": [],
   "source": [
    "pred_train.shape"
   ]
  },
  {
   "cell_type": "code",
   "execution_count": null,
   "id": "7afaa944",
   "metadata": {},
   "outputs": [],
   "source": [
    "pred_test.shape"
   ]
  },
  {
   "cell_type": "code",
   "execution_count": null,
   "id": "8ddf911a",
   "metadata": {},
   "outputs": [],
   "source": [
    "error_test = lcn_test_y - pred_test\n",
    "error_test"
   ]
  },
  {
   "cell_type": "code",
   "execution_count": null,
   "id": "867640bf",
   "metadata": {},
   "outputs": [],
   "source": [
    "# step 6 :- Evaluate the Model"
   ]
  },
  {
   "cell_type": "code",
   "execution_count": null,
   "id": "dd298aaa",
   "metadata": {},
   "outputs": [],
   "source": [
    "Rsquare = linereg.score(lcn_train_x, lcn_train_y)\n",
    "Rsquare"
   ]
  },
  {
   "cell_type": "code",
   "execution_count": null,
   "id": "96fa1261",
   "metadata": {},
   "outputs": [],
   "source": [
    "N = lcn_train_x.shape[0]"
   ]
  },
  {
   "cell_type": "code",
   "execution_count": null,
   "id": "898c1568",
   "metadata": {},
   "outputs": [],
   "source": [
    "K = lcn_train_x.shape[1]"
   ]
  },
  {
   "cell_type": "code",
   "execution_count": null,
   "id": "26ce3ef6",
   "metadata": {},
   "outputs": [],
   "source": [
    "adj_Rsquare = 1 - (1-Rsquare)*(N-1)/ (N-K-1)\n",
    "adj_Rsquare"
   ]
  },
  {
   "cell_type": "code",
   "execution_count": null,
   "id": "70fd9caa",
   "metadata": {},
   "outputs": [],
   "source": [
    "# MSE"
   ]
  },
  {
   "cell_type": "code",
   "execution_count": null,
   "id": "43e69229",
   "metadata": {},
   "outputs": [],
   "source": [
    "mse = np.mean(np.square(error_test))\n",
    "mse"
   ]
  },
  {
   "cell_type": "code",
   "execution_count": null,
   "id": "7faeb9e4",
   "metadata": {},
   "outputs": [],
   "source": [
    "# RMSE"
   ]
  },
  {
   "cell_type": "code",
   "execution_count": null,
   "id": "11c2b074",
   "metadata": {},
   "outputs": [],
   "source": [
    "rmse = np.sqrt(mse)\n",
    "rmse"
   ]
  },
  {
   "cell_type": "code",
   "execution_count": null,
   "id": "7a38e1c9",
   "metadata": {},
   "outputs": [],
   "source": [
    "# MAPE"
   ]
  },
  {
   "cell_type": "code",
   "execution_count": null,
   "id": "7c5f5af0",
   "metadata": {},
   "outputs": [],
   "source": [
    "mape = np.mean(np.abs(error_test * 100 / lcn_test_y))\n",
    "mape"
   ]
  },
  {
   "cell_type": "code",
   "execution_count": null,
   "id": "a1a99c1e",
   "metadata": {},
   "outputs": [],
   "source": []
  }
 ],
 "metadata": {
  "kernelspec": {
   "display_name": "Python 3 (ipykernel)",
   "language": "python",
   "name": "python3"
  },
  "language_info": {
   "codemirror_mode": {
    "name": "ipython",
    "version": 3
   },
   "file_extension": ".py",
   "mimetype": "text/x-python",
   "name": "python",
   "nbconvert_exporter": "python",
   "pygments_lexer": "ipython3",
   "version": "3.11.4"
  }
 },
 "nbformat": 4,
 "nbformat_minor": 5
}
