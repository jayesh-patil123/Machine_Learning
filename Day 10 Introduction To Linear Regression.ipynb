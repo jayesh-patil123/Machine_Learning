{
 "cells": [
  {
   "cell_type": "raw",
   "id": "dec2dab6",
   "metadata": {},
   "source": [
    "# Machine Learning.\n",
    "1] Supervised Learning.\n",
    "2] UnSupervised Learning.\n",
    "\n",
    "Properties of Supervised Learning -\n",
    "1. Target Variable is present.\n",
    "2. Sampling is possible in Supervised Learning.\n",
    "\n",
    "1] Supervised Learning \n",
    "        The Machine that learn to that input new data.\n",
    "        The Machine will be train on know data or label data it will predict data.\n",
    "        Supervised Learning offen  use for classification problem , Regression Problem and object detection problem.\n",
    "        \n",
    "2] Unsupervised Learning\n",
    "        In Unsupervised unlebel Data while train in the model it create the pattern.\n",
    "        Model will findout the pattern is known as clustering.\n",
    "        the unsupervised learning is offen use to perform the task as clustering , dimentionality Reduction.\n",
    "\n",
    "\n",
    "1. Supervised Learning.\n",
    "\n",
    "It was classified into two categories of algorithms -\n",
    "            1. Regression -\n",
    "                         A regression problem is when the output variable is a real and\n",
    "                         continuous value. \n",
    "                         eg:- ( Weight and Height are continues value. )<---- target as\n",
    "                         a regression model. (Integer)\n",
    "            2. Classification - \n",
    "                        A classification problem is when the output variable is a category.\n",
    "                   eg:- Gender, Colours <------- target as a classification (Object)\n",
    "                   \n",
    "1. Regression -\n",
    "A. Linear Regression - \"Straight Line \" to do the prediction.\n",
    "it is supervised learning Regression.\n",
    "  \n",
    "  Equation of Linear regression :- \n",
    "                ** y = B0 + B1x1 + B2x2 + .... + Bnxn +E(error term)  **\n",
    "                  \n",
    "          Consider I have a data like, \n",
    "          X              Y\n",
    "          Weight         Mileage\n",
    "          1000           15\n",
    "          1200           13\n",
    "          1100           13.5\n",
    "          1300           11.9\n",
    "          \n",
    "          Here, Y is totally depends on X\n",
    "                Y if the function of X\n",
    "                \n",
    "                Any value falls on regression line should be predicted Value.\n",
    "                \n",
    "           ** Error = Actual - predicted **\n",
    "           "
   ]
  },
  {
   "cell_type": "code",
   "execution_count": null,
   "id": "f31c15a5",
   "metadata": {},
   "outputs": [],
   "source": []
  }
 ],
 "metadata": {
  "kernelspec": {
   "display_name": "Python 3 (ipykernel)",
   "language": "python",
   "name": "python3"
  },
  "language_info": {
   "codemirror_mode": {
    "name": "ipython",
    "version": 3
   },
   "file_extension": ".py",
   "mimetype": "text/x-python",
   "name": "python",
   "nbconvert_exporter": "python",
   "pygments_lexer": "ipython3",
   "version": "3.11.4"
  }
 },
 "nbformat": 4,
 "nbformat_minor": 5
}
