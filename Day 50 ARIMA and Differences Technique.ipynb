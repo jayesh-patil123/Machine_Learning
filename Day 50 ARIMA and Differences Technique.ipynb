{
 "cells": [
  {
   "cell_type": "raw",
   "id": "0dcb7612-8bec-4d16-af39-8d5da9577cf5",
   "metadata": {},
   "source": [
    " * ARIMA MODEL \n",
    " (Auto Regressive integrated moving average )\n",
    "ARIMA can be denoted as  (p(AR) , d(I) , q(MA))\n",
    "Lets try to understand what is integreted means ?\n",
    "- If series is not stationary we will make it stationary.\n",
    "- Differencing Technique.\n",
    "\n",
    "\n",
    "Lets say i have a series,\n",
    "  200 , 210, 217, 240, 280, 360, 400, 205, 213,220,245,300,370 and this is not sataionary\n",
    "\n",
    "We will be using the differencing technique to make it stationary.\n",
    "\n",
    "Differencing mesans substracting 1 term for the other term.\n",
    "After deferenceing ,\n",
    "\n",
    "10, 7, 23, 40, 80, 40, -195 , 8, 7, 25, 55 , 70                           ..... Series after differencing.\n",
    "\n",
    "You will do 2nd level of diffferencing if serious is not Sationarey even after 1st level of differencing.\n",
    "\n",
    "-3,16,17,40,-40,-155d\n",
    "\n",
    "d = it will be decided by the level of differencing you are doing.\n",
    "\n",
    "-How to find the value of p and q\n",
    " By using 1 . ACF (AUTO correlation function)\n",
    "          2 . PACF (Parcial Auto correalation function)\n",
    "\n",
    "jan  feb  march  april  may ...\n",
    "540  510   530    540   580\n",
    "\n",
    "- The corr will come from the lag pof the series.\n",
    "\n"
   ]
  },
  {
   "cell_type": "code",
   "execution_count": null,
   "id": "1d9ed423-513b-43a8-9639-27aa663fd257",
   "metadata": {},
   "outputs": [],
   "source": []
  }
 ],
 "metadata": {
  "kernelspec": {
   "display_name": "Python 3 (ipykernel)",
   "language": "python",
   "name": "python3"
  },
  "language_info": {
   "codemirror_mode": {
    "name": "ipython",
    "version": 3
   },
   "file_extension": ".py",
   "mimetype": "text/x-python",
   "name": "python",
   "nbconvert_exporter": "python",
   "pygments_lexer": "ipython3",
   "version": "3.11.9"
  }
 },
 "nbformat": 4,
 "nbformat_minor": 5
}
