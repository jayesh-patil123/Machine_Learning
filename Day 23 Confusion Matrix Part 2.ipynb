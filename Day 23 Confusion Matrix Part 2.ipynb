{
 "cells": [
  {
   "cell_type": "raw",
   "id": "4e2649c7",
   "metadata": {},
   "source": [
    "Q) how to choose the model ?  \n",
    "--> - Choose a model which is balanced.\n",
    "    Balanced :- Performance of the both model should be Good.\n",
    "    - Choose the model which meets your problem statement or requirement.\n",
    "    \n",
    "4 ] Precision =     TP\n",
    "                 TP + FP\n",
    "                     \n",
    "     - Higher the precision better the model.\n",
    "     \n",
    "     \n",
    "5 ] AUROC CURVE :-\n",
    " Scenarion 1 = You are getting 96% and u want to have 99%.\n",
    " Scenarion 2 = Yor are getting 50% and u want 75%.\n",
    " \n",
    " which senariion is easy to implement? \n",
    " \n",
    " is Tpr is increing very slowly  and FPR also increase very fast .\n",
    " \n",
    " Beyond a certain point when you tries to increse the TPR TPR will increse very slowly . ANd FPR increse very Fast. on the certain point Things will change Drastrically. \n",
    "\n",
    "\n",
    "6 ] F1 Ratio- ( when value are not in proportion)\n",
    "\n",
    "Harmonic mean bet pre and recall.\n",
    "\n",
    "\n",
    "F1 ratio = 2* precision * recall / presicion +Recall\n",
    "\n",
    "Higher the F1 better the model. \n",
    "Range of the F1 ration is 0 to 1."
   ]
  },
  {
   "cell_type": "code",
   "execution_count": null,
   "id": "2fa687a2",
   "metadata": {},
   "outputs": [],
   "source": []
  }
 ],
 "metadata": {
  "kernelspec": {
   "display_name": "Python 3 (ipykernel)",
   "language": "python",
   "name": "python3"
  },
  "language_info": {
   "codemirror_mode": {
    "name": "ipython",
    "version": 3
   },
   "file_extension": ".py",
   "mimetype": "text/x-python",
   "name": "python",
   "nbconvert_exporter": "python",
   "pygments_lexer": "ipython3",
   "version": "3.11.4"
  }
 },
 "nbformat": 4,
 "nbformat_minor": 5
}
